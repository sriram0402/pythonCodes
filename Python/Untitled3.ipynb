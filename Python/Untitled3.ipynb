{
 "cells": [
  {
   "cell_type": "code",
   "execution_count": null,
   "id": "1474bd13-abbc-493f-b06e-6710618cc0f1",
   "metadata": {},
   "outputs": [],
   "source": [
    "res=requests.get('https://randomuser.me/api/?results=2000')"
   ]
  },
  {
   "cell_type": "code",
   "execution_count": null,
   "id": "28a597cd-6ce0-44db-aafc-cc026e145dba",
   "metadata": {},
   "outputs": [],
   "source": []
  }
 ],
 "metadata": {
  "kernelspec": {
   "display_name": "Python 3 (ipykernel)",
   "language": "python",
   "name": "python3"
  },
  "language_info": {
   "name": ""
  }
 },
 "nbformat": 4,
 "nbformat_minor": 5
}
